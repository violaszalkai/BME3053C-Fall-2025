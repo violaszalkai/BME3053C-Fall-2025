{
  "cells": [
    {
      "cell_type": "markdown",
      "metadata": {
        "id": "view-in-github",
        "colab_type": "text"
      },
      "source": [
        "<a href=\"https://colab.research.google.com/github/violaszalkai/BME3053C-Fall-2025/blob/main/lessons-solved/06_Matrix_Transformations_10_22_2025.ipynb\" target=\"_parent\"><img src=\"https://colab.research.google.com/assets/colab-badge.svg\" alt=\"Open In Colab\"/></a>"
      ]
    },
    {
      "cell_type": "markdown",
      "metadata": {
        "id": "eo-d53jwlnsN"
      },
      "source": [
        "# BME3053C - Computer Applications for BME\n",
        "\n",
        "<br/>\n",
        "\n",
        "<h1 align=\"center\">Matrix Transformations</h1>\n",
        "\n",
        "---\n",
        "\n",
        "<center><h2>Lesson 06</h2></center>\n",
        "\n",
        "### Original Lesson Link: [![Open In Colab](https://colab.research.google.com/assets/colab-badge.svg)](https://colab.research.google.com/github/uf-bme/BME3053C-Fall-2025/blob/main/lessons/06_Matrix_Transformations.ipynb)\n"
      ]
    },
    {
      "cell_type": "markdown",
      "metadata": {
        "id": "08zeL-7IlnsP"
      },
      "source": [
        "# Introduction to Matrix Transformations\n",
        "\n",
        "Matrix transformations are fundamental operations in linear algebra that have numerous applications in biomedical engineering. They allow us to manipulate and analyze multidimensional data, which is crucial in fields such as medical imaging, biomechanics, and signal processing.\n",
        "\n",
        "In this lesson, we'll explore how to perform matrix transformations using Python's NumPy library and apply these concepts to biomedical engineering problems.\n"
      ]
    },
    {
      "cell_type": "markdown",
      "metadata": {
        "id": "2MOXeanblnsP"
      },
      "source": [
        "## Importing Required Libraries\n"
      ]
    },
    {
      "cell_type": "code",
      "execution_count": 37,
      "metadata": {
        "id": "4ru_ciLTlnsQ"
      },
      "outputs": [],
      "source": [
        "import numpy as np\n",
        "import matplotlib.pyplot as plt\n",
        "\n",
        "# Enable inline plotting\n",
        "%matplotlib inline"
      ]
    },
    {
      "cell_type": "markdown",
      "metadata": {
        "id": "IZYqnknQlnsQ"
      },
      "source": [
        "# Basic Matrix Operations\n",
        "\n",
        " Before diving into transformations, let's review some basic matrix operations:\n",
        "\n",
        " * Matrix Addition: $\\begin{bmatrix} a & b \\\\ c & d \\end{bmatrix} + \\begin{bmatrix} e & f \\\\ g & h \\end{bmatrix} = \\begin{bmatrix} a+e & b+f \\\\ c+g & d+h \\end{bmatrix}$\n",
        "\n",
        " * Matrix Multiplication: $\\begin{bmatrix} a & b \\\\ c & d \\end{bmatrix} \\times \\begin{bmatrix} e & f \\\\ g & h \\end{bmatrix} = \\begin{bmatrix} ae+bg & af+bh \\\\ ce+dg & cf+dh \\end{bmatrix}$\n",
        "\n",
        " * Scalar Multiplication: $k \\begin{bmatrix} a & b \\\\ c & d \\end{bmatrix} = \\begin{bmatrix} ka & kb \\\\ kc & kd \\end{bmatrix}$\n",
        "\n",
        " * Matrix Transposition: $\\begin{bmatrix} a & b \\\\ c & d \\end{bmatrix}^T = \\begin{bmatrix} a & c \\\\ b & d \\end{bmatrix}$\n",
        "\n",
        " * Identity Matrix: $I = \\begin{bmatrix} 1 & 0 \\\\ 0 & 1 \\end{bmatrix}$\n"
      ]
    },
    {
      "cell_type": "markdown",
      "metadata": {
        "id": "P1MLAy3mlnsQ"
      },
      "source": [
        "# Examples of Matrix Transformations\n",
        "\n",
        "Here are some common matrix transformations used to transform points:\n",
        "\n",
        " 1. Translation: $\\begin{bmatrix} 1 & 0 & t_x \\\\ 0 & 1 & t_y \\\\ 0 & 0 & 1 \\end{bmatrix} \\begin{bmatrix} x \\\\ y \\\\ 1 \\end{bmatrix} = \\begin{bmatrix} x' \\\\ y' \\\\ 1 \\end{bmatrix}$\n",
        "\n",
        " 2. Scaling: $\\begin{bmatrix} s_x & 0 \\\\ 0 & s_y \\end{bmatrix} \\begin{bmatrix} x \\\\ y \\end{bmatrix} = \\begin{bmatrix} x' \\\\ y' \\end{bmatrix}$\n",
        "\n",
        " 3. Rotation (by angle θ): $\\begin{bmatrix} \\cos\\theta & -\\sin\\theta \\\\ \\sin\\theta & \\cos\\theta \\end{bmatrix} \\begin{bmatrix} x \\\\ y \\end{bmatrix} = \\begin{bmatrix} x' \\\\ y' \\end{bmatrix}$\n",
        "\n",
        " 4. Shear (horizontal): $\\begin{bmatrix}1&k\\\\0&1\\end{bmatrix}\\begin{bmatrix}x\\\\y\\end{bmatrix}=\\begin{bmatrix}x'\\\\y'\\end{bmatrix}$\n",
        "\n",
        "  5. Reflection(about y-axis): $\\begin{bmatrix} -1 & 0 \\\\ 0 & 1 \\end{bmatrix}\\begin{bmatrix} x \\\\ y \\end{bmatrix} = \\begin{bmatrix} x' \\\\ y' \\end{bmatrix}$\n",
        "\n",
        "These transformations can be combined by multiplying their respective matrices to create more complex transformations.\n"
      ]
    },
    {
      "cell_type": "markdown",
      "metadata": {
        "id": "c5P8QHAIlnsR"
      },
      "source": [
        "# Implementing Matrix Operations\n",
        "\n",
        "In the following cells, we'll implement and demonstrate some basic matrix operations using NumPy. These operations form the foundation for more complex transformations we'll explore later.\n",
        "\n",
        "We'll start by creating two matrices, A and B, and then perform addition and multiplication operations on them. This will help us understand how these operations work in practice and prepare us for applying them in more advanced scenarios, such as image transformations in medical imaging.\n"
      ]
    },
    {
      "cell_type": "code",
      "execution_count": 38,
      "metadata": {
        "colab": {
          "base_uri": "https://localhost:8080/"
        },
        "id": "jIT7zi_FlnsR",
        "outputId": "56a2fa33-27df-465f-8c45-965c606a37e3"
      },
      "outputs": [
        {
          "output_type": "stream",
          "name": "stdout",
          "text": [
            "Matrix A:\n",
            "[[1 2]\n",
            " [3 4]]\n",
            "\n",
            "Matrix B:\n",
            "[[5 6]\n",
            " [7 8]]\n",
            "\n",
            "A + B:\n",
            "[[ 6  8]\n",
            " [10 12]]\n",
            "\n",
            "A * B:\n",
            "[[19 22]\n",
            " [43 50]]\n",
            "\n",
            "Another way to multiply matrices using the @ operator:\n",
            "[[19 22]\n",
            " [43 50]]\n",
            "\n",
            "Changing order\n",
            "[[23 34]\n",
            " [31 46]]\n",
            "\n",
            "2 * A:\n",
            "[[2 4]\n",
            " [6 8]]\n",
            "\n",
            "Transpose of A:\n",
            "[[1 3]\n",
            " [2 4]]\n"
          ]
        }
      ],
      "source": [
        "# Creating matrices\n",
        "A = np.array([[1, 2], [3, 4]])\n",
        "B = np.array([[5, 6], [7, 8]])\n",
        "\n",
        "print(\"Matrix A:\")\n",
        "print(A)\n",
        "print(\"\\nMatrix B:\")\n",
        "print(B)\n",
        "\n",
        "# Matrix addition\n",
        "print(\"\\nA + B:\")\n",
        "print(A + B)\n",
        "\n",
        "# Matrix multiplication\n",
        "print(\"\\nA * B:\")\n",
        "print(np.dot(A, B))\n",
        "print(\"\\nAnother way to multiply matrices using the @ operator:\")\n",
        "print(A @ B)\n",
        "print(\"\\nChanging order\")\n",
        "print(B @ A)\n",
        "\n",
        "# Scalar multiplication\n",
        "print(\"\\n2 * A:\")\n",
        "print(2 * A)\n",
        "\n",
        "# Matrix transposition\n",
        "print(\"\\nTranspose of A:\")\n",
        "print(A.T)"
      ]
    },
    {
      "cell_type": "markdown",
      "metadata": {
        "id": "GEz-g9L9lnsS"
      },
      "source": [
        "## Translation\n",
        "\n",
        "  Translation moves points by a fixed distance in a given direction. In 2D, we can represent this using a 3x3 matrix:\n",
        "  \n",
        "  * Inverse translation: To undo a translation, we can apply the negative of the original translation.\n",
        "    * For example, if we translated by (tx, ty), the inverse translation would be (-tx, -ty).\n",
        "\n",
        "  "
      ]
    },
    {
      "cell_type": "code",
      "execution_count": 39,
      "metadata": {
        "colab": {
          "base_uri": "https://localhost:8080/",
          "height": 753
        },
        "id": "EDSr3oYIlnsS",
        "outputId": "8a665363-a58f-40ee-85a7-1eeff652e570"
      },
      "outputs": [
        {
          "output_type": "stream",
          "name": "stdout",
          "text": [
            "Original point: [-1 -3]\n",
            "Transformed point: [ 2 -3]\n"
          ]
        },
        {
          "output_type": "display_data",
          "data": {
            "text/plain": [
              "<Figure size 800x800 with 1 Axes>"
            ],
            "image/png": "[encoded data removed]"
          },
          "metadata": {}
        }
      ],
      "source": [
        "def translate(tx, ty):\n",
        "    return np.array([\n",
        "        [1, 0, tx],\n",
        "        [0, 1, ty],\n",
        "        [0, 0, 1]\n",
        "    ])\n",
        "\n",
        "\n",
        "# Example: Translate a point (1, 2) by (3, 4)\n",
        "point = np.array([-1,-3])\n",
        "translation = translate(3,0)\n",
        "# Convert point to homogeneous coordinates\n",
        "homogeneous_point = np.append(point, 1)\n",
        "\n",
        "# Apply translation\n",
        "new_point = (translation @ homogeneous_point)[:2]\n",
        "\n",
        "def visualize_transformation(point, new_point):\n",
        "    print(\"Original point:\", point)\n",
        "    print(\"Transformed point:\", new_point)\n",
        "    fig, ax = plt.subplots(figsize=(8, 8))\n",
        "    ax.scatter(point[0], point[1], color='blue', label='Original Point')\n",
        "    ax.scatter(new_point[0], new_point[1], color='red', label='Transformed Point')\n",
        "\n",
        "    # Calculate plot limits\n",
        "    max_range = np.max(np.abs([*point,*new_point]))+0.5\n",
        "    ax.set_xlim(-max_range, max_range)\n",
        "    ax.set_ylim(-max_range, max_range)\n",
        "\n",
        "    plot_width = max_range*2\n",
        "    plot_height = max_range*2\n",
        "    # Calculate arrow properties proportional to plot size\n",
        "    arrow_width = 0.005 * plot_width  # Increased arrow width\n",
        "    head_width = 0.02 * plot_width     # Increased head width\n",
        "    head_length = 0.02 * plot_height    # Increased head length\n",
        "\n",
        "    ax.arrow(point[0], point[1], new_point[0]-point[0], new_point[1]-point[1],\n",
        "             color='green', width=arrow_width, head_width=head_width, head_length=head_length,\n",
        "             length_includes_head=True, label='Transformation Vector')\n",
        "\n",
        "    ax.set_xlabel('X')\n",
        "    ax.set_ylabel('Y')\n",
        "    ax.set_title('2D Point Transformation')\n",
        "    ax.legend()\n",
        "    ax.grid(True)\n",
        "    ax.set_aspect('equal')\n",
        "    plt.show()\n",
        "\n",
        "\n",
        "\n",
        "# Call the function with the original and translated points\n",
        "visualize_transformation(point, new_point)"
      ]
    },
    {
      "cell_type": "markdown",
      "metadata": {
        "id": "3RBonlOBQE1U"
      },
      "source": [
        "## Exercise: Translate a point\n",
        "In this exercise, we'll apply our knowledge of matrix transformations to translate a point.\n",
        "\n",
        "Objectives:\n",
        "1. Create a point centered at (3,4)\n",
        "2. Translate the point 4 units down.\n"
      ]
    },
    {
      "cell_type": "code",
      "execution_count": 39,
      "metadata": {
        "id": "VV6gT2G1OABA"
      },
      "outputs": [],
      "source": []
    },
    {
      "cell_type": "markdown",
      "metadata": {
        "id": "cu9phmR8lnsT"
      },
      "source": [
        "## Scaling\n",
        "\n",
        "Scaling changes the size of an object. In 2D, we can represent this using a 2x2 matrix:\n"
      ]
    },
    {
      "cell_type": "code",
      "execution_count": 40,
      "metadata": {
        "colab": {
          "base_uri": "https://localhost:8080/",
          "height": 753
        },
        "id": "dhYTnLu6lnsT",
        "outputId": "d6335240-afef-468a-e3d9-50bff8a5e076"
      },
      "outputs": [
        {
          "output_type": "stream",
          "name": "stdout",
          "text": [
            "Original point: [2 3]\n",
            "Transformed point: [4.  1.5]\n"
          ]
        },
        {
          "output_type": "display_data",
          "data": {
            "text/plain": [
              "<Figure size 800x800 with 1 Axes>"
            ],
            "image/png": "[encoded data removed]"
          },
          "metadata": {}
        }
      ],
      "source": [
        "def scale_2d(sx, sy):\n",
        "    return np.array([\n",
        "        [sx, 0],\n",
        "        [0, sy]\n",
        "    ])\n",
        "\n",
        "# Example: Scale a point (2, 3) by factors of 2 and 0.5\n",
        "point = np.array([2, 3])\n",
        "scaling = scale_2d(2, 0.5)\n",
        "new_point = np.dot(scaling, point)\n",
        "\n",
        "visualize_transformation(point, new_point)"
      ]
    },
    {
      "cell_type": "markdown",
      "metadata": {
        "id": "O1YSnmeClnsT"
      },
      "source": [
        "## Rotation\n",
        "\n",
        "Rotation turns an object around a fixed point. In 2D, we can represent this using a 2x2 matrix:\n",
        "Key points about matrix rotations:\n",
        "* The rotation matrix for a counterclockwise rotation by angle θ is:\n",
        "$$\\begin{bmatrix}\n",
        "\\cos(\\theta) & -\\sin(\\theta) \\\\\n",
        "\\sin(\\theta) & \\cos(\\theta)\n",
        "\\end{bmatrix}$$\n",
        "\n",
        "* Rotation preserves the distance from the origin and the shape of the object.\n",
        "\n",
        "* Consecutive rotations can be combined by multiplying their matrices.\n",
        "\n",
        " * The inverse of a rotation matrix is its transpose, making it easy to undo rotations.\n",
        "    For a rotation matrix R(θ):\n",
        "    $$\\begin{align}R(\\theta)^{-1} = R(\\theta)^T = R(-\\theta) =\n",
        "    \\begin{bmatrix}\\cos(\\theta) & \\sin(\\theta)\\\\-\\sin(\\theta) & \\cos(\\theta)\\end{bmatrix}\\end{align}$$\n",
        "\n",
        "* In 3D, rotations become more complex and can be represented using 3x3 matrices or other methods like quaternions.\n"
      ]
    },
    {
      "cell_type": "code",
      "execution_count": 41,
      "metadata": {
        "colab": {
          "base_uri": "https://localhost:8080/",
          "height": 753
        },
        "id": "DvfVgKMDlnsU",
        "outputId": "6d500863-5a70-4898-d65d-ec2ceb7c7927"
      },
      "outputs": [
        {
          "output_type": "stream",
          "name": "stdout",
          "text": [
            "Original point: [1 0]\n",
            "Transformed point: [6.123234e-17 1.000000e+00]\n"
          ]
        },
        {
          "output_type": "display_data",
          "data": {
            "text/plain": [
              "<Figure size 800x800 with 1 Axes>"
            ],
            "image/png": "[encoded data removed]"
          },
          "metadata": {}
        }
      ],
      "source": [
        "def rotate_2d(angle_degrees):\n",
        "    angle_radians = np.radians(angle_degrees)\n",
        "    cos_theta = np.cos(angle_radians)\n",
        "    sin_theta = np.sin(angle_radians)\n",
        "    return np.array([\n",
        "        [cos_theta, -sin_theta],\n",
        "        [sin_theta, cos_theta]\n",
        "    ])\n",
        "\n",
        "# Example: Rotate a point (1, 1) by 90 degrees\n",
        "point = np.array([1,0])\n",
        "rotation = rotate_2d(90)\n",
        "new_point = np.dot(rotation, point)\n",
        "visualize_transformation(point, new_point)\n",
        "# print(\"Original point:\", point)\n",
        "# print(\"Rotated point:\", new_point)"
      ]
    },
    {
      "cell_type": "markdown",
      "metadata": {
        "id": "jsGqTLjhWUIl"
      },
      "source": [
        "## Exercise: Rotate a point\n",
        "In this exercise, we'll apply our knowledge of matrix transformations to Rotate a point.\n",
        "\n",
        "Objectives:\n",
        "1. Create a point centered at (1,0)\n",
        "2. Rotate the point 80 degrees in the clockwise direction.\n"
      ]
    },
    {
      "cell_type": "code",
      "execution_count": 41,
      "metadata": {
        "id": "QHB1aGOHWdtp"
      },
      "outputs": [],
      "source": []
    },
    {
      "cell_type": "markdown",
      "metadata": {
        "id": "-Kz8ZF9LYYbO"
      },
      "source": [
        "# Code for Exercises"
      ]
    },
    {
      "cell_type": "code",
      "execution_count": 42,
      "metadata": {
        "id": "78XU-GTKYio6"
      },
      "outputs": [],
      "source": [
        "def generate_star(center=(0, 0), num_points=5, outer_radius=1, inner_radius=0.5,homogeneous=False):\n",
        "    '''\n",
        "    This function generates the coordinates of a star shape based on the specified number of points,\n",
        "    outer radius, inner radius, and center coordinates. The star is created by alternating between the\n",
        "    outer and inner radii at calculated angles, resulting in a visually appealing star pattern.\n",
        "    '''\n",
        "    angles = np.linspace(np.pi/2, 5*np.pi/2, num_points*2, endpoint=False)\n",
        "    radii = np.array([outer_radius, inner_radius] * num_points)\n",
        "    x = radii * np.cos(angles) + center[0]\n",
        "    y = radii * np.sin(angles) + center[1]\n",
        "    return np.column_stack((x, y)) if not homogeneous else np.column_stack((x, y, np.ones(num_points*2)))\n",
        "\n",
        "def plot_star(ax, star, title,global_view):\n",
        "    ax.plot(star[:, 0], star[:, 1], 'b-')\n",
        "    ax.plot([star[-1, 0], star[0, 0]], [star[-1, 1], star[0, 1]], 'b-')  # Connect last to first\n",
        "    ax.set_title(title)\n",
        "    ax.axis('equal')\n",
        "    if global_view:\n",
        "      ax.set_xlim(-10,10)\n",
        "      ax.set_ylim(-10,10)\n",
        "      ax.axhline(0, color='black')\n",
        "      ax.axvline(0, color='black')\n",
        "\n",
        "    ax.grid(True)  # Add grid\n",
        "\n",
        "    star_center = np.mean(star, axis=0)\n",
        "    arrow_start = star_center\n",
        "\n",
        "    vector_to_point = star[0] - star_center\n",
        "    direction = vector_to_point/np.linalg.norm(vector_to_point)  # Normalize the direction vector\n",
        "    arrow_length = np.linalg.norm(vector_to_point)/2\n",
        "    arrow_end = star_center + (arrow_length) * direction\n",
        "    headwidth=6 if global_view else 8\n",
        "    width = 1 if global_view else 2\n",
        "    ###########################################\n",
        "    ax.annotate('', xy=arrow_end, xytext=arrow_start,\n",
        "                arrowprops=dict(facecolor='green', shrink=0.05, width=width, headwidth=headwidth))\n",
        "\n",
        "def plot_stars(stars,global_view=False):\n",
        "    if len(stars) == 1 or not isinstance(stars, list):\n",
        "        print(\"There must be a list of multiple stars to plot\")\n",
        "        return\n",
        "    num_stars = len(stars)\n",
        "    fig, axs = plt.subplots(1, num_stars, figsize=(10, 5))\n",
        "    for i, star in enumerate(stars):\n",
        "        plot_star(axs[i], star[:,:2], f'Star {i+1}',global_view)"
      ]
    },
    {
      "cell_type": "markdown",
      "metadata": {
        "id": "4YWvTTsVlnsU"
      },
      "source": [
        "## Rotating a star\n",
        "In this exercise, we'll apply our knowledge of matrix transformations to rotate a star shape. This exercise demonstrates how rotation matrices can be used to manipulate geometric objects, which is a fundamental concept in medical imaging and computer graphics for biomedical applications.\n",
        "\n",
        "Objectives:\n",
        "1. Implement a rotation function using a 2D rotation matrix that rotates the star 135 degrees in the counterclockwise direction\n",
        "2. Visualize the original and rotated star\n"
      ]
    },
    {
      "cell_type": "code",
      "execution_count": 43,
      "metadata": {
        "colab": {
          "base_uri": "https://localhost:8080/",
          "height": 468
        },
        "id": "3fhJVhQalnsV",
        "outputId": "56f2023f-d850-46ac-cafb-b25519029f4f"
      },
      "outputs": [
        {
          "output_type": "display_data",
          "data": {
            "text/plain": [
              "<Figure size 1000x500 with 2 Axes>"
            ],
            "image/png": "[encoded data removed]"
          },
          "metadata": {}
        }
      ],
      "source": [
        "def rotate_vertices(star_points, angle_degrees):\n",
        "    \"\"\"\n",
        "    This function rotates an object defined as a set of vertices.\n",
        "    \"\"\"\n",
        "    rotation = rotate_2d(angle_degrees)\n",
        "    rotated_star = (rotation  @ star_points.T).T\n",
        "\n",
        "    return rotated_star\n",
        "\n",
        "\n",
        "star = generate_star(center=(3,3))\n",
        "\n",
        "rotated_star = rotate_vertices(star, 45)\n",
        "\n",
        "plot_stars([star,rotated_star])"
      ]
    },
    {
      "cell_type": "markdown",
      "metadata": {
        "id": "4F-O3Ka7lnsV"
      },
      "source": [
        "## Exercise: Translate a star\n",
        "In this exercise, we'll apply our knowledge of matrix transformations to rotate a star shape. This exercise demonstrates how rotation matrices can be used to manipulate geometric objects, which is a fundamental concept in medical imaging and computer graphics for biomedical applications.\n",
        "\n",
        "Objectives:\n",
        "1. Generate a star centered at (1,2)\n",
        "2. Translate the star 2 units to the left\n",
        "3. Visualize the original and translated star\n"
      ]
    },
    {
      "cell_type": "code",
      "execution_count": 43,
      "metadata": {
        "id": "BSME1yaUlnsV"
      },
      "outputs": [],
      "source": []
    },
    {
      "cell_type": "markdown",
      "metadata": {
        "id": "bKfjCPxhlnsW"
      },
      "source": [
        "## Exercise: Rotate and Scale a star\n",
        "Objectives:\n",
        "1. Generate a start centered at (2,2)\n",
        "2. Implement a function to rotate a star shape 45 degrees in the clockwise direction.\n",
        "3. Implement a function to increase the scale of the star by 2.\n",
        "4. Visualize the original and transformed star shapes.\n"
      ]
    },
    {
      "cell_type": "code",
      "execution_count": 43,
      "metadata": {
        "id": "Jj43yp0klnsW"
      },
      "outputs": [],
      "source": [
        "\n"
      ]
    },
    {
      "cell_type": "markdown",
      "metadata": {
        "id": "sX4bdV9sdcwD"
      },
      "source": [
        "# Using Homogeneous Coordinates to Represent Transformation Matrices\n",
        "\n",
        "* Homogeneous coordinates are a way of representing N-dimensional coordinates with N+1 numbers\n",
        "\n",
        "$$p=\\begin{bmatrix} x \\\\ y \\\\ 1 \\end{bmatrix}$$\n",
        "\n",
        "* In standard 2D Cartesian coordinates, a point is represented as\n",
        "(x,y). However, transformations like translation are difficult to express as matrix multiplication in these coordinates. To overcome this, we convert the 2D coordinates into homogeneous coordinates, which add an extra dimension.\n",
        "\n",
        "* The third coordinate (usually set to 1) allows us to represent translation, rotation, and scaling as matrix operations, which can be applied to represent **all** transformations as matrix multiplications.\n",
        "\n"
      ]
    },
    {
      "cell_type": "markdown",
      "metadata": {
        "id": "xmAY7hJ6eYv6"
      },
      "source": [
        "## Transformation Matrices in Homogeneous Coordinates\n",
        "<center><img  src=\"https://github.com/uf-bme/bme3053c/raw/main/files/2D_affine_transformation_matrix.svg\" alt='Matrix Transformations'/></center>"
      ]
    },
    {
      "cell_type": "markdown",
      "metadata": {
        "id": "nFhld9R02tLc"
      },
      "source": [
        "# Combining Transformations\n",
        "\n",
        "When performing multiple transformations, we can combine them by multiplying their matrices. When working with transformation matrices, especially in applications like biomedical engineering where precision is crucial, it's important to be mindful of several key considerations to ensure accurate and effective results.\n",
        "\n",
        "* **Order of Transformations Matters**\n",
        "  * **Non-Commutative Multiplication**: Matrix multiplication is **not commutative**, meaning that $( A \\cdot B \\neq B \\cdot A )$. The sequence in which you multiply transformation matrices directly affects the final result.\n",
        "  * **Sequence of Operations**: Decide on the logical sequence of transformations (e.g., scaling, then rotation, then translation) based on the specific requirements of your application.\n",
        "\n",
        "* **Coordinate Systems and Reference Frames**\n",
        "  * **Consistency**: Ensure that all transformations are applied within the same coordinate system. Mixing coordinate systems can lead to incorrect transformations.\n",
        "  * **Local vs Global Transformations**: Understand whether transformations are relative to the object's local coordinate system or a global coordinate system. This affects how transformations are applied and combined.\n",
        "\n",
        "* **Use of Homogeneous Coordinates**\n",
        "  * **Unified Representation**: Homogeneous coordinates allow for a consistent representation of translation, rotation, and scaling as matrix operations.\n",
        "  * **Additional Dimension**: Remember to convert points to homogeneous coordinates by adding an extra dimension (e.g., $( (x, y) $) becomes $( (x, y, 1) $) in 2D) before applying transformation matrices.\n"
      ]
    },
    {
      "cell_type": "markdown",
      "metadata": {
        "id": "oIDi9JggnE6J"
      },
      "source": [
        "### Example: Rotation + Scaling + Translation\n",
        "We can also combine rotation, scaling, and translation in one step by multiplying their respective matrices together:\n",
        "\n",
        "\n",
        "$$Combined=T⋅S⋅R(θ)$$\n",
        "\n",
        "This order applies the rotation first, then scaling, and finally translation."
      ]
    },
    {
      "cell_type": "code",
      "execution_count": 44,
      "metadata": {
        "id": "Xc84tZv8--nb"
      },
      "outputs": [],
      "source": [
        "def rotate(angle_degrees):\n",
        "    angle_radians = np.radians(angle_degrees)\n",
        "    cos_theta = np.cos(angle_radians)\n",
        "    sin_theta = np.sin(angle_radians)\n",
        "    return np.array([\n",
        "        [cos_theta, -sin_theta,0],\n",
        "        [sin_theta, cos_theta,0],\n",
        "        [0,0,1],\n",
        "    ])\n",
        "\n",
        "\n",
        "def scale(sx,sy):\n",
        "    return np.array([\n",
        "        [sx, 0,0],\n",
        "        [0, sy,0],\n",
        "        [0,0,1],\n",
        "    ])\n",
        "\n",
        "\n",
        "def translate(tx, ty):\n",
        "    return np.array([\n",
        "        [1, 0, tx],\n",
        "        [0, 1, ty],\n",
        "        [0, 0, 1]\n",
        "    ])\n"
      ]
    },
    {
      "cell_type": "markdown",
      "metadata": {
        "id": "sMUHUy2K2tLc"
      },
      "source": [
        "## Exercise: Combine transformation matrices to rotate and scale a star\n",
        "Objectives:\n",
        "1. Generate a start centered at (0,0)\n",
        "2. Implement a function to rotate a star shape 60 degrees in the counterclockwise direction.\n",
        "3. Implement a function to increase the scale of the star by 3.\n",
        "4. Visualize the original and transformed star shapes.\n"
      ]
    },
    {
      "cell_type": "code",
      "execution_count": 45,
      "metadata": {
        "id": "YN4K5-xs2tLd",
        "colab": {
          "base_uri": "https://localhost:8080/",
          "height": 211
        },
        "outputId": "8f7bef38-5ca5-4d9f-d63e-9d0c547d9c9f"
      },
      "outputs": [
        {
          "output_type": "error",
          "ename": "UFuncTypeError",
          "evalue": "ufunc 'matmul' did not contain a loop with signature matching types (dtype('<U1'), dtype('float64')) -> None",
          "traceback": [
            "\u001b[0;31m---------------------------------------------------------------------------\u001b[0m",
            "\u001b[0;31mUFuncTypeError\u001b[0m                            Traceback (most recent call last)",
            "\u001b[0;32m/tmp/ipython-input-657553435.py\u001b[0m in \u001b[0;36m<cell line: 0>\u001b[0;34m()\u001b[0m\n\u001b[1;32m      4\u001b[0m \u001b[0mcombined_transform\u001b[0m \u001b[0;34m=\u001b[0m  \u001b[0;34m\"\"\u001b[0m\u001b[0;34m\u001b[0m\u001b[0;34m\u001b[0m\u001b[0m\n\u001b[1;32m      5\u001b[0m \u001b[0;34m\u001b[0m\u001b[0m\n\u001b[0;32m----> 6\u001b[0;31m \u001b[0mtransformed_star\u001b[0m \u001b[0;34m=\u001b[0m \u001b[0;34m(\u001b[0m\u001b[0mcombined_transform\u001b[0m \u001b[0;34m@\u001b[0m \u001b[0mstar\u001b[0m\u001b[0;34m.\u001b[0m\u001b[0mT\u001b[0m\u001b[0;34m)\u001b[0m\u001b[0;34m.\u001b[0m\u001b[0mT\u001b[0m\u001b[0;34m\u001b[0m\u001b[0;34m\u001b[0m\u001b[0m\n\u001b[0m\u001b[1;32m      7\u001b[0m \u001b[0;34m\u001b[0m\u001b[0m\n\u001b[1;32m      8\u001b[0m \u001b[0mplot_stars\u001b[0m\u001b[0;34m(\u001b[0m\u001b[0;34m[\u001b[0m\u001b[0mstar\u001b[0m\u001b[0;34m,\u001b[0m\u001b[0mtransformed_star\u001b[0m\u001b[0;34m]\u001b[0m\u001b[0;34m)\u001b[0m\u001b[0;34m\u001b[0m\u001b[0;34m\u001b[0m\u001b[0m\n",
            "\u001b[0;31mUFuncTypeError\u001b[0m: ufunc 'matmul' did not contain a loop with signature matching types (dtype('<U1'), dtype('float64')) -> None"
          ]
        }
      ],
      "source": [
        "# Fix the `combined_transform` line\n",
        "star=generate_star(homogeneous=True)\n",
        "\n",
        "combined_transform =  \"\"\n",
        "\n",
        "transformed_star = (combined_transform @ star.T).T\n",
        "\n",
        "plot_stars([star,transformed_star])\n"
      ]
    },
    {
      "cell_type": "markdown",
      "metadata": {
        "id": "W4qeSkEPAuuk"
      },
      "source": [
        "## Exercise: Combine transformation matrices to aquire stars described below\n",
        "Objectives:\n",
        "1. Generate a start centered at (0,0)\n",
        "2. Implement a combine transformation matrix that will result in a star that is centered at (3,3), rotated counterclockwise by 90 degrees, and scaled by 2.\n",
        "4. Visualize the original and transformed star shapes with global_view = True in `plot_stars`.\n",
        "\n"
      ]
    },
    {
      "cell_type": "code",
      "execution_count": null,
      "metadata": {
        "id": "vWBOprrwBJ8_"
      },
      "outputs": [],
      "source": [
        "#Complete the exercise below\n"
      ]
    },
    {
      "cell_type": "markdown",
      "metadata": {
        "id": "rFHAbe6E2tLg"
      },
      "source": [
        "## Exercise: Combine transformation matrices to aquire stars described below\n",
        "Objectives:\n",
        "1. Generate a start centered at (2,2)\n",
        "2. Implement a combine transformation matrix that will result in a star that is centered at (-1,1), scaled by 0.5, and rotated clockwise by 45 degrees.\n",
        "\n"
      ]
    },
    {
      "cell_type": "code",
      "execution_count": 46,
      "metadata": {
        "id": "XSAW-nSs2tLg",
        "colab": {
          "base_uri": "https://localhost:8080/",
          "height": 211
        },
        "outputId": "2eca7523-2e00-429b-d3aa-59de77d8dfcd"
      },
      "outputs": [
        {
          "output_type": "error",
          "ename": "TypeError",
          "evalue": "scale() takes 2 positional arguments but 3 were given",
          "traceback": [
            "\u001b[0;31m---------------------------------------------------------------------------\u001b[0m",
            "\u001b[0;31mTypeError\u001b[0m                                 Traceback (most recent call last)",
            "\u001b[0;32m/tmp/ipython-input-2820475829.py\u001b[0m in \u001b[0;36m<cell line: 0>\u001b[0;34m()\u001b[0m\n\u001b[1;32m      4\u001b[0m \u001b[0mtranslation1\u001b[0m \u001b[0;34m=\u001b[0m \u001b[0mtranslate\u001b[0m\u001b[0;34m(\u001b[0m\u001b[0;34m-\u001b[0m\u001b[0;36m2\u001b[0m\u001b[0;34m,\u001b[0m\u001b[0;34m-\u001b[0m\u001b[0;36m2\u001b[0m\u001b[0;34m)\u001b[0m\u001b[0;34m\u001b[0m\u001b[0;34m\u001b[0m\u001b[0m\n\u001b[1;32m      5\u001b[0m \u001b[0mtranslation2\u001b[0m \u001b[0;34m=\u001b[0m \u001b[0mtranslate\u001b[0m\u001b[0;34m(\u001b[0m\u001b[0;34m-\u001b[0m\u001b[0;36m1\u001b[0m\u001b[0;34m,\u001b[0m \u001b[0;36m1\u001b[0m\u001b[0;34m)\u001b[0m\u001b[0;34m\u001b[0m\u001b[0;34m\u001b[0m\u001b[0m\n\u001b[0;32m----> 6\u001b[0;31m \u001b[0mscaling\u001b[0m \u001b[0;34m=\u001b[0m \u001b[0mscale\u001b[0m\u001b[0;34m(\u001b[0m\u001b[0;36m0.5\u001b[0m\u001b[0;34m,\u001b[0m \u001b[0;36m0\u001b[0m\u001b[0;34m,\u001b[0m\u001b[0;36m.5\u001b[0m\u001b[0;34m)\u001b[0m\u001b[0;34m\u001b[0m\u001b[0;34m\u001b[0m\u001b[0m\n\u001b[0m\u001b[1;32m      7\u001b[0m \u001b[0mcombined_transform\u001b[0m\u001b[0;34m=\u001b[0m \u001b[0mtranslation2\u001b[0m \u001b[0;34m@\u001b[0m \u001b[0mscaling\u001b[0m \u001b[0;34m@\u001b[0m \u001b[0mrotation\u001b[0m \u001b[0;34m@\u001b[0m \u001b[0mtranslation1\u001b[0m\u001b[0;34m\u001b[0m\u001b[0;34m\u001b[0m\u001b[0m\n\u001b[1;32m      8\u001b[0m \u001b[0mtransformed_star\u001b[0m \u001b[0;34m=\u001b[0m \u001b[0;34m(\u001b[0m\u001b[0mcombined_transform\u001b[0m \u001b[0;34m@\u001b[0m \u001b[0mstar\u001b[0m\u001b[0;34m.\u001b[0m\u001b[0mT\u001b[0m\u001b[0;34m)\u001b[0m\u001b[0;34m.\u001b[0m\u001b[0mT\u001b[0m\u001b[0;34m\u001b[0m\u001b[0;34m\u001b[0m\u001b[0m\n",
            "\u001b[0;31mTypeError\u001b[0m: scale() takes 2 positional arguments but 3 were given"
          ]
        }
      ],
      "source": [
        "#Complete the exercise below\n",
        "star = generate_star(center = (2,2), homogeneous = True)\n",
        "rotation = rotate(-45)\n",
        "translation1 = translate(-2,-2)\n",
        "translation2 = translate(-1, 1)\n",
        "scaling = scale(0.5, 0,.5)\n",
        "combined_transform= translation2 @ scaling @ rotation @ translation1\n",
        "transformed_star = (combined_transform @ star.T).T\n",
        "plot_stars([star, transformed_star], global_view = True)"
      ]
    },
    {
      "cell_type": "markdown",
      "metadata": {
        "id": "liZX4l5S2Snz"
      },
      "source": [
        "## Exercise: Rotate and Translate a Star\n",
        "\n",
        "Create a star centered at 1,-2, then create a transformation matrix that will create the star depicted to the right."
      ]
    },
    {
      "cell_type": "code",
      "execution_count": null,
      "metadata": {
        "id": "PtWAeCB-2Snz"
      },
      "outputs": [],
      "source": []
    },
    {
      "cell_type": "markdown",
      "metadata": {
        "id": "EZDyF7x-lnsW"
      },
      "source": [
        "# Conclusion\n",
        "\n",
        "In this lesson, we've explored matrix transformations and discussed some of their applications in biomedical engineering. As you continue your studies, you'll encounter many more applications of matrix transformations in areas such as signal processing, medical robotics, and computational modeling of biological systems.\n"
      ]
    }
  ],
  "metadata": {
    "colab": {
      "provenance": [],
      "include_colab_link": true
    },
    "kernelspec": {
      "display_name": ".venv",
      "language": "python",
      "name": "python3"
    },
    "language_info": {
      "codemirror_mode": {
        "name": "ipython",
        "version": 3
      },
      "file_extension": ".py",
      "mimetype": "text/x-python",
      "name": "python",
      "nbconvert_exporter": "python",
      "pygments_lexer": "ipython3",
      "version": "3.10.12"
    }
  },
  "nbformat": 4,
  "nbformat_minor": 0
}